{
  "nbformat": 4,
  "nbformat_minor": 0,
  "metadata": {
    "colab": {
      "provenance": [],
      "authorship_tag": "ABX9TyPSUWqVOdAky8uo2nuyIx9x",
      "include_colab_link": true
    },
    "kernelspec": {
      "name": "python3",
      "display_name": "Python 3"
    },
    "language_info": {
      "name": "python"
    }
  },
  "cells": [
    {
      "cell_type": "markdown",
      "metadata": {
        "id": "view-in-github",
        "colab_type": "text"
      },
      "source": [
        "<a href=\"https://colab.research.google.com/github/drago467/Generative-AI-networks/blob/main/Advanced_Generative_Architecture.ipynb\" target=\"_parent\"><img src=\"https://colab.research.google.com/assets/colab-badge.svg\" alt=\"Open In Colab\"/></a>"
      ]
    },
    {
      "cell_type": "code",
      "execution_count": 1,
      "metadata": {
        "id": "cU8CaifUExOE"
      },
      "outputs": [],
      "source": [
        "# importing the libraries\n",
        "import torch, torchvision, os, PIL, pdb\n",
        "from torch import nn\n",
        "from torch.utils.data import Dataset\n",
        "from torch.utils.data import DataLoader\n",
        "from torchvision import transforms\n",
        "from torchvision.utils import make_grid\n",
        "from tqdm.auto import tqdm\n",
        "import numpy as np\n",
        "from PIL import Image\n",
        "import matplotlib.pyplot as plt\n",
        "import pdb\n",
        "\n",
        "def show(tensor, num = 25, wandb = 0, name = ''):\n",
        "  data = tensor.detach().cpu()\n",
        "  grid = make_grid(data[:num], nrow = 5).permute(1, 2, 0)\n",
        "\n",
        "  plt.imshow(grid, clip(0, 1))\n",
        "  plt.show()\n",
        "\n",
        "### hyperparameters and general parameters\n",
        "\n",
        "n_epochs = 10000\n",
        "batch_size = 128\n",
        "lr = 1e-4\n",
        "z_dim = 200\n",
        "device = 'cuda' #GPU\n",
        "\n",
        "cur_step = 0\n",
        "crit_cycles = 5"
      ]
    },
    {
      "cell_type": "code",
      "source": [
        "import torch.nn as nn\n",
        "\n",
        "class Generator(nn.Module):\n",
        "    def __init__(self, z_dim=64, d_dim=16):\n",
        "        super(Generator, self).__init__()\n",
        "        self.z_dim = z_dim\n",
        "\n",
        "        self.gen = nn.Sequential(\n",
        "            nn.ConvTranspose2d(z_dim, d_dim * 32, 4, 1, 0),\n",
        "            nn.BatchNorm2d(d_dim * 32),\n",
        "            nn.ReLU(True),\n",
        "\n",
        "            nn.ConvTranspose2d(d_dim * 32, d_dim * 16, 4, 2, 1),\n",
        "            nn.BatchNorm2d(d_dim * 16),\n",
        "            nn.ReLU(True),\n",
        "\n",
        "            nn.ConvTranspose2d(d_dim * 16, d_dim * 8, 4, 2, 1),\n",
        "            nn.BatchNorm2d(d_dim * 8),\n",
        "            nn.ReLU(True),\n",
        "\n",
        "            nn.ConvTranspose2d(d_dim * 8, d_dim * 4, 4, 2, 1),\n",
        "            nn.BatchNorm2d(d_dim * 4),\n",
        "            nn.ReLU(True),\n",
        "\n",
        "            nn.ConvTranspose2d(d_dim * 4, d_dim * 2, 4, 2, 1),\n",
        "            nn.BatchNorm2d(d_dim * 2),\n",
        "            nn.ReLU(True),\n",
        "\n",
        "            nn.ConvTranspose2d(d_dim * 2, 3, 4, 2, 1),\n",
        "            nn.Tanh()\n",
        "        )\n",
        "\n",
        "    def forward(self, noise):\n",
        "      x = noise.view(len(noise), self.z_dim, 1, 1) # 128 x 200 x 1 x 1\n",
        "      return self.gen(x)\n",
        "\n",
        "def gen_noise(num, z_dim, device = 'cuda'):\n",
        "  return torch.randn(num, z_dim, device = device)\n",
        ""
      ],
      "metadata": {
        "id": "zbN8gdqlIqAz"
      },
      "execution_count": 7,
      "outputs": []
    },
    {
      "cell_type": "code",
      "source": [
        "class Critic(nn.Module):\n",
        "  def __init__(self, d_dim = 16):\n",
        "    super(Critic, self).__init__()\n",
        "\n",
        "    self.crit = nn.Sequential(\n",
        "        nn.Conv2d(3, d_dim, 4, 2, 1),\n",
        "        nn.InstanceNorm2d(d_dim),\n",
        "        nn.LeakyReLU(0.2),\n",
        "\n",
        "        nn.Conv2d(d_dim, d_dim*2, 4, 2, 1),\n",
        "        nn.InstanceNorm2d(d_dim*2),\n",
        "        nn.LeakyReLU(0.2),\n",
        "\n",
        "        nn.Conv2d(d_dim*2, d_dim*4, 4, 2, 1),\n",
        "        nn.InstanceNorm2d(d_dim*4),\n",
        "        nn.LeakyReLU(0.2),\n",
        "\n",
        "        nn.Conv2d(d_dim*4, d_dim*8, 4, 2, 1),\n",
        "        nn.InstanceNorm2d(d_dim*8),\n",
        "        nn.LeakyReLU(0.2),\n",
        "\n",
        "        nn.Conv2d(d_dim*8, d_dim*16, 4, 2, 1),\n",
        "        nn.InstanceNorm2d(d_dim*16),\n",
        "        nn.LeakyReLU(0.2),\n",
        "\n",
        "        nn.Conv2d(d_dim*16, 1, 4, 1, 0),\n",
        "        nn.Sigmoid()\n",
        "    )\n",
        "\n",
        "  def forward(self, image):\n",
        "    crit_pred = self.crit(image)\n",
        "    return crit_pred.view(len(crit_pred), -1)"
      ],
      "metadata": {
        "id": "4eO6XMMBP7qX"
      },
      "execution_count": 8,
      "outputs": []
    },
    {
      "cell_type": "code",
      "source": [],
      "metadata": {
        "id": "UC4drMbKhKZS"
      },
      "execution_count": null,
      "outputs": []
    }
  ]
}